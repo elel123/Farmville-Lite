{
 "cells": [
  {
   "cell_type": "markdown",
   "metadata": {},
   "source": [
    "# FarmVille Lite"
   ]
  },
  {
   "cell_type": "markdown",
   "metadata": {},
   "source": [
    "### Farmville Lite Description\n",
    "For this project, I created a farming game inspired by the game FarmVille. Compared to the actual game, my game has limited features, where the user can only plant one of two types of seeds (wheat and saplings). There is also a point system, where players can keep track of the profits they have made from growing and harvesting plants.\n",
    "\n",
    "##### The features of the game (the panel of buttons):\n",
    "Note that a button must be selected before its features can be used\n",
    "- Saplings: Can be planted on plowed plots (will take twice time of wheat to grow)\n",
    "- Wheat Seeds: Can be planted on plowed plots (will take time to grow)\n",
    "- Rake: Used to create plowed plots (Click on the farm with the rake selected)\n",
    "- Shovel: Used to remove plants from plots, or the plot itself from the farm\n",
    "- Scythe: Used to harvest *fully-grown* plants from their plots and gain coins\n",
    "\n",
    "\n",
    "Note that this game requires the installation of python and the module pygame on your computer. If you are playing this game using the Anaconda launcher, to install pygame, go to the Anaconda Prompt (separate application on your computer) and type in \n",
    "\"__pip install pygame__\" in the terminal. Otherwise, install pygame through your own command prompt (terminal) by typing in the same command. \n",
    "\n",
    "The module pygame allows for the creation of a game window on the screen, along with animated frames and mouse and keyboard dectection that allows for the game to be interactive. "
   ]
  },
  {
   "cell_type": "markdown",
   "metadata": {},
   "source": [
    "## Project Code\n",
    "\n",
    "There are additional modules imported from another file. Note that the kernel will restart everytime the game finishes running."
   ]
  },
  {
   "cell_type": "code",
   "execution_count": 1,
   "metadata": {
    "scrolled": false
   },
   "outputs": [
    {
     "name": "stdout",
     "output_type": "stream",
     "text": [
      "pygame 1.9.6\n",
      "Hello from the pygame community. https://www.pygame.org/contribute.html\n"
     ]
    }
   ],
   "source": [
    "from my_module.interactive_loop import farmville_lite\n",
    "farmville_lite() #Starts the pygame thread\n",
    "quit() #Restarts the kernel "
   ]
  }
 ],
 "metadata": {
  "kernelspec": {
   "display_name": "Python 3",
   "language": "python",
   "name": "python3"
  },
  "language_info": {
   "codemirror_mode": {
    "name": "ipython",
    "version": 3
   },
   "file_extension": ".py",
   "mimetype": "text/x-python",
   "name": "python",
   "nbconvert_exporter": "python",
   "pygments_lexer": "ipython3",
   "version": "3.7.3"
  }
 },
 "nbformat": 4,
 "nbformat_minor": 2
}
